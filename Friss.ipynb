{
 "cells": [
  {
   "cell_type": "code",
   "execution_count": 1,
   "id": "aed66ac6",
   "metadata": {},
   "outputs": [],
   "source": [
    "# Imports\n",
    "import pandas as pd"
   ]
  },
  {
   "cell_type": "markdown",
   "id": "48ca8963",
   "metadata": {},
   "source": [
    "**1) Find out which of the 80.000 cases in the training data are fraudulent cases, by mapping the file\n",
    "“fraud_cases.csv” to the training data. How many fraud cases can you find?**"
   ]
  },
  {
   "cell_type": "code",
   "execution_count": 2,
   "id": "b17cf00d",
   "metadata": {},
   "outputs": [
    {
     "name": "stdout",
     "output_type": "stream",
     "text": [
      "['ClaimID' 'Date_Occurred']\n",
      "['sys_sector' 'sys_label' 'sys_process' 'sys_product'\n",
      " 'sys_dataspecification_version' 'sys_claimid' 'sys_currency_code'\n",
      " 'claim_amount_claimed_total' 'claim_causetype' 'claim_date_occurred'\n",
      " 'claim_date_reported' 'claim_location_urban_area' 'object_make'\n",
      " 'object_year_construction' 'ph_firstname' 'ph_gender' 'ph_name'\n",
      " 'policy_fleet_flag' 'policy_insured_amount' 'policy_profitability']\n"
     ]
    }
   ],
   "source": [
    "fraud_cases = pd.read_csv(\"fraud_cases.csv\")\n",
    "print(fraud_cases.columns.values)\n",
    "\n",
    "training_data = pd.read_csv(\"FRISS_ClaimHistory_training.csv\")\n",
    "print(training_data.columns.values)"
   ]
  },
  {
   "cell_type": "markdown",
   "id": "40e0a1a1",
   "metadata": {},
   "source": [
    "At this point I found that the `sys_claimid` field is formatted in a different way than `ClaimID`, but I assume they stem from the same id. I will create a new column to perform an inner join."
   ]
  },
  {
   "cell_type": "code",
   "execution_count": 3,
   "id": "0fc37683",
   "metadata": {},
   "outputs": [
    {
     "data": {
      "text/plain": [
       "615"
      ]
     },
     "execution_count": 3,
     "metadata": {},
     "output_type": "execute_result"
    }
   ],
   "source": [
    "training_data[\"ClaimID\"] = training_data[\"sys_claimid\"].str.extract(r\"MTR-([0-9]*)-02\")\n",
    "\n",
    "# Check that all sys_claimID conform to the regex: extract returns NaN when regex does not match\n",
    "assert training_data[\"ClaimID\"].isna().sum() == 0\n",
    "\n",
    "fraud_cases_in_training_data = pd.merge(fraud_cases,\n",
    "                                        training_data,\n",
    "                                        left_on=\"ClaimID\",\n",
    "                                        right_on=\"ClaimID\")\n",
    "len(fraud_cases_in_training_data)"
   ]
  },
  {
   "cell_type": "markdown",
   "id": "1f02369f",
   "metadata": {},
   "source": [
    "The inner join returns 615 records, which means 615 fraud cases in the training data."
   ]
  },
  {
   "cell_type": "markdown",
   "id": "ee7e5b11",
   "metadata": {},
   "source": [
    "**The customer wants to know when the number of days between the occurrence of the claim and the report\n",
    "date of the claim is high. Based on this information, an indicator at FRISS can be made. Explain what you\n",
    "think is a high number, based on the training data.**"
   ]
  },
  {
   "cell_type": "code",
   "execution_count": 4,
   "id": "96e70511",
   "metadata": {},
   "outputs": [],
   "source": [
    "claim_date_format = \"%Y%m%d\"\n",
    "claim_occurred_time = pd.to_datetime(training_data[\"claim_date_occurred\"], format=claim_date_format)\n",
    "claim_reported_time = pd.to_datetime(training_data[\"claim_date_reported\"], format=claim_date_format)\n",
    "# Check that every claim occured before report (Speaking of fraud indicators...)\n",
    "assert (claim_occurred_time > claim_reported_time).sum() == 0\n",
    "occured_reported_delta = claim_reported_time - claim_occurred_time"
   ]
  },
  {
   "cell_type": "code",
   "execution_count": 5,
   "id": "229b401b",
   "metadata": {},
   "outputs": [
    {
     "name": "stdout",
     "output_type": "stream",
     "text": [
      "count                         80000\n",
      "mean        20 days 00:39:17.640000\n",
      "std      72 days 03:32:52.443470215\n",
      "min                 0 days 00:00:00\n",
      "25%                 2 days 00:00:00\n",
      "50%                 4 days 00:00:00\n",
      "75%                14 days 00:00:00\n",
      "max              2778 days 00:00:00\n",
      "dtype: object\n",
      "76 days 00:00:00\n"
     ]
    },
    {
     "data": {
      "text/plain": [
       "<AxesSubplot:>"
      ]
     },
     "execution_count": 5,
     "metadata": {},
     "output_type": "execute_result"
    },
    {
     "data": {
      "image/png": "[encoded data removed]",
      "text/plain": [
       "<Figure size 432x288 with 1 Axes>"
      ]
     },
     "metadata": {
      "needs_background": "light"
     },
     "output_type": "display_data"
    }
   ],
   "source": [
    "print(occured_reported_delta.describe())\n",
    "print(occured_reported_delta.quantile(0.95))\n",
    "occured_reported_delta.astype('timedelta64[s]').hist(bins=100)"
   ]
  },
  {
   "cell_type": "markdown",
   "id": "e2458a8c",
   "metadata": {},
   "source": [
    "To determine what \"late\" is I've looked at the distribution of the time between a claim being reported and when it occurred. If we plot the data it is extremely skewed towards some outlier.\n",
    "\n",
    "Looking at the p95 percentile (95% of reports were made faster than 72 days) I decide that this is a good norm for a \"high\" amount of days. It is explainable and corresponds to a bit over two months, which feels reasonable. Another benefit is that this is easy to re-calculate on future data and not affected by the magnitude of extreme outliers like the mean and the standard deviation are."
   ]
  },
  {
   "cell_type": "markdown",
   "id": "2ee3fb74",
   "metadata": {},
   "source": [
    "**3) Clean the data by removing irrelevant features, cleaning up features and by engineering any fun new\n",
    "feature that you might think of.**"
   ]
  },
  {
   "cell_type": "markdown",
   "id": "a2482745",
   "metadata": {},
   "source": [
    "First I drop the columns that are non-informative because they all have the same value are or generated by some system. I keep ClaimID so I can add the fraud labels later"
   ]
  },
  {
   "cell_type": "code",
   "execution_count": 6,
   "id": "c0b50427",
   "metadata": {},
   "outputs": [],
   "source": [
    "def drop_noise_columns(training_data):\n",
    "    return training_data.drop(columns=['sys_sector', 'sys_product', 'sys_label', 'sys_process', 'sys_product', 'sys_currency_code', 'sys_dataspecification_version', 'sys_claimid'])\n",
    "\n",
    "training_data_cleaned = drop_noise_columns(training_data)"
   ]
  },
  {
   "cell_type": "markdown",
   "id": "c0c8fb87",
   "metadata": {},
   "source": [
    "Next I remove the gender and name features. These features should not be used in a model because they come with ethical and legal issues."
   ]
  },
  {
   "cell_type": "code",
   "execution_count": 7,
   "id": "5b813df6",
   "metadata": {},
   "outputs": [],
   "source": [
    "def drop_sensitive_columns(training_data):\n",
    "    return training_data.drop(columns=['ph_gender', 'ph_name', 'ph_firstname'])\n",
    "\n",
    "training_data_cleaned = drop_sensitive_columns(training_data_cleaned)"
   ]
  },
  {
   "cell_type": "markdown",
   "id": "e7a6de71",
   "metadata": {},
   "source": [
    "Next we need to clean up various features to make them continous or categorical.\n",
    "I add a feature that was discussed in Question two, and also a categorical feature describing the season, because some seasons(winter) are more accident prone. I choose seasons over months to reduce the amount of variables.\n",
    "\n",
    "Some features may continous in the domain (policy profitability), but since I cannot validate this assumption I keep it categorical for now."
   ]
  },
  {
   "cell_type": "code",
   "execution_count": 8,
   "id": "10c247f9",
   "metadata": {},
   "outputs": [],
   "source": [
    "def process_categoricals(training_data):\n",
    "    claim_reported_time = pd.to_datetime(training_data[\"claim_date_reported\"], format=claim_date_format)\n",
    "    claim_occurred_time = pd.to_datetime(training_data[\"claim_date_occurred\"], format=claim_date_format)\n",
    "    training_data[\"report_time_delta\"] = (claim_reported_time - claim_occurred_time).dt.total_seconds()\n",
    "    training_data[\"occurred_date_season\"] = pd.DatetimeIndex(claim_occurred_time).month // 4\n",
    "    categoricals = [\"occurred_date_season\", \"claim_causetype\", \"claim_location_urban_area\", \"object_make\", \"policy_fleet_flag\", \"policy_profitability\"]\n",
    "    for column in categoricals:\n",
    "        training_data = training_data.join(\n",
    "            pd.get_dummies(training_data[column].astype(\"category\"), prefix=column),\n",
    "            rsuffix=\"_\"\n",
    "        )\n",
    "    return training_data.drop(columns=categoricals)\n",
    "\n",
    "training_data_cleaned = process_categoricals(training_data_cleaned)"
   ]
  },
  {
   "cell_type": "markdown",
   "id": "7774b17e",
   "metadata": {},
   "source": [
    "There are 30000 NaNs in the policy_claim column, but none have 0. I assume that NaN means the object was not insured at all and thus I can set the insured amount to 0. If I worked at FRISS I would ask a domain expert"
   ]
  },
  {
   "cell_type": "code",
   "execution_count": 9,
   "id": "e8b0d8d8",
   "metadata": {},
   "outputs": [],
   "source": [
    "def make_vehicle_age_feature(training_data):\n",
    "    claim_occurred_time = pd.to_datetime(training_data[\"claim_date_occurred\"], format=claim_date_format)\n",
    "    training_data[\"vehicle_age_years\"] = pd.DatetimeIndex(claim_occurred_time).year - training_data[\"object_year_construction\"]\n",
    "    return training_data\n",
    "\n",
    "training_data_cleaned = make_vehicle_age_feature(training_data_cleaned)"
   ]
  },
  {
   "cell_type": "markdown",
   "id": "a2ae6b07",
   "metadata": {},
   "source": [
    "Finally I adjust the vehicle make year to represent the age of the vehicle when the claim occurred."
   ]
  },
  {
   "cell_type": "code",
   "execution_count": 10,
   "id": "b2525981",
   "metadata": {},
   "outputs": [
    {
     "data": {
      "text/plain": [
       "4582"
      ]
     },
     "execution_count": 10,
     "metadata": {},
     "output_type": "execute_result"
    }
   ],
   "source": [
    "(training_data_cleaned[\"vehicle_age_years\"] < 0).sum()"
   ]
  },
  {
   "cell_type": "markdown",
   "id": "1b3e2f06",
   "metadata": {},
   "source": [
    "Which immediately reveals that 4582 claims were made before their vehicle was made. This feels like an error in the data as this number is considerably larger than the amount of fraud cases.\n",
    "\n",
    "Next we drop the columns which we have proccessed but are not suitable for training a model and merge with the fraud cases to obtain a dataset for training."
   ]
  },
  {
   "cell_type": "code",
   "execution_count": 11,
   "id": "d2366687",
   "metadata": {},
   "outputs": [],
   "source": [
    "def final_cleanup(training_data):\n",
    "    training_data[\"policy_insured_amount\"].fillna(0, inplace=True)\n",
    "    return training_data.drop(columns=[\"claim_date_occurred\", \"claim_date_reported\", \"object_year_construction\"])\n",
    "\n",
    "training_data_cleaned = final_cleanup(training_data_cleaned)"
   ]
  },
  {
   "cell_type": "code",
   "execution_count": 12,
   "id": "c79ddfd7",
   "metadata": {},
   "outputs": [],
   "source": [
    "def make_training_labels(training_data):\n",
    "    training_data_labels = fraud_cases.drop(columns=[\"Date_Occurred\"])\n",
    "    training_data_labels[\"fraud\"] = True\n",
    "    training_data_labeled = training_data.join(training_data_labels.set_index(\"ClaimID\"), on=\"ClaimID\")\n",
    "    training_data_labeled[\"fraud\"].fillna(False, inplace=True)\n",
    "    return training_data_labeled.drop(columns=[\"ClaimID\"])\n",
    "\n",
    "training_data_labeled = make_training_labels(training_data_cleaned)\n",
    "\n",
    "\n",
    "# Assert number of fraud cases is 615 and that no records were added; the above code is a little hacky so we need to test.\n",
    "assert training_data_labeled[\"fraud\"].sum() == 615\n",
    "assert len(training_data_labeled) == 80000"
   ]
  },
  {
   "cell_type": "code",
   "execution_count": 13,
   "id": "9d42d5c2",
   "metadata": {},
   "outputs": [],
   "source": [
    "def process_features(training_data):\n",
    "    training_data_cleaned = drop_noise_columns(training_data)\n",
    "    training_data_cleaned = drop_sensitive_columns(training_data_cleaned)\n",
    "    training_data_cleaned = process_categoricals(training_data_cleaned)\n",
    "    training_data_cleaned = make_vehicle_age_feature(training_data_cleaned)\n",
    "    training_data_cleaned = final_cleanup(training_data_cleaned)\n",
    "    return training_data_cleaned"
   ]
  },
  {
   "cell_type": "markdown",
   "id": "7fba343c",
   "metadata": {},
   "source": [
    "**4) Train a model based on the training data and the responding fraud cases. Choose any model you like (and\n",
    "Google anything you like!). Keep in mind that the data is very imbalanced and keep in mind that you should\n",
    "be able to explain your model to anyone!**"
   ]
  },
  {
   "cell_type": "markdown",
   "id": "6b317063",
   "metadata": {},
   "source": [
    "First I try a logistic regression model. They are a good fit for binary classification problems, and because of their probability output we can play with the threshold to get the desired amount of true positives vs missed cases.\n",
    "\n",
    "The model can only do a linear combination so the results are very explainable, but the models power is limited."
   ]
  },
  {
   "cell_type": "code",
   "execution_count": 14,
   "id": "af25e58a",
   "metadata": {},
   "outputs": [],
   "source": [
    "from sklearn.linear_model import LogisticRegression\n",
    "from sklearn.metrics import plot_confusion_matrix, plot_roc_curve\n",
    "\n",
    "labels = training_data_labeled[\"fraud\"]\n",
    "data = training_data_labeled.drop(columns=[\"fraud\"])"
   ]
  },
  {
   "cell_type": "code",
   "execution_count": 15,
   "id": "fd88c920",
   "metadata": {},
   "outputs": [
    {
     "data": {
      "text/plain": [
       "array([[0.4368004 , 0.5631996 ],\n",
       "       [0.42405016, 0.57594984],\n",
       "       [0.47280869, 0.52719131],\n",
       "       ...,\n",
       "       [0.49176983, 0.50823017],\n",
       "       [0.45720976, 0.54279024],\n",
       "       [0.48541963, 0.51458037]])"
      ]
     },
     "execution_count": 15,
     "metadata": {},
     "output_type": "execute_result"
    }
   ],
   "source": [
    "clf = LogisticRegression(random_state=0,\n",
    "                         class_weight=\"balanced\"\n",
    "                        ).fit(data.to_numpy(), labels)\n",
    "predictions = clf.predict_proba(data.to_numpy())\n",
    "predictions"
   ]
  },
  {
   "cell_type": "code",
   "execution_count": 16,
   "id": "e47e4775",
   "metadata": {},
   "outputs": [
    {
     "data": {
      "text/plain": [
       "0.196"
      ]
     },
     "execution_count": 16,
     "metadata": {},
     "output_type": "execute_result"
    }
   ],
   "source": [
    "test_set = pd.read_csv(\"FRISS_ClaimHistory_test.csv\")\n",
    "test_set_with_features = process_features(test_set)\n",
    "\n",
    "clf.score(test_set_with_features.drop(columns=[\"sys_fraud\"]), test_set_with_features[\"sys_fraud\"])"
   ]
  },
  {
   "cell_type": "code",
   "execution_count": 17,
   "id": "6c3d3dc4",
   "metadata": {},
   "outputs": [
    {
     "data": {
      "text/plain": [
       "<sklearn.metrics._plot.roc_curve.RocCurveDisplay at 0x7f25b9b9cf60>"
      ]
     },
     "execution_count": 17,
     "metadata": {},
     "output_type": "execute_result"
    },
    {
     "data": {
      "image/png": "[encoded data removed]",
      "text/plain": [
       "<Figure size 432x288 with 2 Axes>"
      ]
     },
     "metadata": {
      "needs_background": "light"
     },
     "output_type": "display_data"
    },
    {
     "data": {
      "image/png": "[encoded data removed]",
      "text/plain": [
       "<Figure size 432x288 with 1 Axes>"
      ]
     },
     "metadata": {
      "needs_background": "light"
     },
     "output_type": "display_data"
    }
   ],
   "source": [
    "plot_confusion_matrix(clf, test_set_with_features.drop(columns=[\"sys_fraud\"]), test_set_with_features[\"sys_fraud\"])\n",
    "plot_roc_curve(clf, test_set_with_features.drop(columns=[\"sys_fraud\"]), test_set_with_features[\"sys_fraud\"])"
   ]
  },
  {
   "cell_type": "markdown",
   "id": "31fb3c9a",
   "metadata": {},
   "source": [
    "Logistic regression is a poor fit for this problem. A AUC of 0.57 is not much better than random guessing. Let's try a decision tree."
   ]
  },
  {
   "cell_type": "code",
   "execution_count": 18,
   "id": "cfdb6005",
   "metadata": {},
   "outputs": [],
   "source": [
    "from sklearn.tree import DecisionTreeClassifier"
   ]
  },
  {
   "cell_type": "code",
   "execution_count": 19,
   "id": "cc49d2eb",
   "metadata": {},
   "outputs": [
    {
     "data": {
      "text/plain": [
       "<sklearn.metrics._plot.confusion_matrix.ConfusionMatrixDisplay at 0x7f25b99c0b38>"
      ]
     },
     "execution_count": 19,
     "metadata": {},
     "output_type": "execute_result"
    },
    {
     "data": {
      "image/png": "[encoded data removed]",
      "text/plain": [
       "<Figure size 432x288 with 2 Axes>"
      ]
     },
     "metadata": {
      "needs_background": "light"
     },
     "output_type": "display_data"
    },
    {
     "data": {
      "image/png": "[encoded data removed]",
      "text/plain": [
       "<Figure size 432x288 with 2 Axes>"
      ]
     },
     "metadata": {
      "needs_background": "light"
     },
     "output_type": "display_data"
    }
   ],
   "source": [
    "dtc = DecisionTreeClassifier(random_state=0,\n",
    "                             class_weight=\"balanced\"\n",
    "                            ).fit(data.to_numpy(), labels)\n",
    "plot_confusion_matrix(dtc, data.to_numpy(), labels)\n",
    "plot_confusion_matrix(dtc, test_set_with_features.drop(columns=[\"sys_fraud\"]), test_set_with_features[\"sys_fraud\"])"
   ]
  },
  {
   "cell_type": "markdown",
   "id": "6d2c1781",
   "metadata": {},
   "source": [
    "This is better, although it's very biased towards Not fraud. Let's see if we can tune it a bit, it seems to have overfit on the training data."
   ]
  },
  {
   "cell_type": "code",
   "execution_count": 20,
   "id": "245df285",
   "metadata": {},
   "outputs": [
    {
     "data": {
      "text/plain": [
       "<sklearn.metrics._plot.confusion_matrix.ConfusionMatrixDisplay at 0x7f25b7ca56a0>"
      ]
     },
     "execution_count": 20,
     "metadata": {},
     "output_type": "execute_result"
    },
    {
     "data": {
      "image/png": "[encoded data removed]",
      "text/plain": [
       "<Figure size 432x288 with 2 Axes>"
      ]
     },
     "metadata": {
      "needs_background": "light"
     },
     "output_type": "display_data"
    },
    {
     "data": {
      "image/png": "[encoded data removed]",
      "text/plain": [
       "<Figure size 432x288 with 2 Axes>"
      ]
     },
     "metadata": {
      "needs_background": "light"
     },
     "output_type": "display_data"
    }
   ],
   "source": [
    "from sklearn.ensemble import RandomForestClassifier\n",
    "rfc = RandomForestClassifier(random_state=0,\n",
    "                             class_weight=\"balanced_subsample\",\n",
    "                             max_depth=15,\n",
    "                             max_features=29\n",
    "                            ).fit(data.to_numpy(), labels)\n",
    "plot_confusion_matrix(rfc, data.to_numpy(), labels)\n",
    "plot_confusion_matrix(rfc, test_set_with_features.drop(columns=[\"sys_fraud\"]), test_set_with_features[\"sys_fraud\"])"
   ]
  },
  {
   "cell_type": "code",
   "execution_count": null,
   "id": "8d1cee6f",
   "metadata": {},
   "outputs": [
    {
     "name": "stdout",
     "output_type": "stream",
     "text": [
      "[WARNING] [2021-07-02 20:05:18,578:Client-AutoMLSMBO(1)::0dfd562c-db60-11eb-a6f0-9cb6d08d71fb] Configuration 233 not found\n",
      "[WARNING] [2021-07-02 20:05:18,578:Client-AutoMLSMBO(1)::0dfd562c-db60-11eb-a6f0-9cb6d08d71fb] Configuration 42 not found\n",
      "\n",
      "[WARNING] [2021-07-02 20:05:18,578:Client-AutoMLSMBO(1)::0dfd562c-db60-11eb-a6f0-9cb6d08d71fb] Configuration 421 not found\n",
      "[WARNING] [2021-07-02 20:05:18,578:Client-AutoMLSMBO(1)::0dfd562c-db60-11eb-a6f0-9cb6d08d71fb] Configuration 634 not found[WARNING] [2021-07-02 20:05:18,578:Client-AutoMLSMBO(1)::0dfd562c-db60-11eb-a6f0-9cb6d08d71fb] Configuration 301 not found\n",
      "[WARNING] [2021-07-02 20:05:18,578:Client-AutoMLSMBO(1)::0dfd562c-db60-11eb-a6f0-9cb6d08d71fb] Configuration 370 not found\n",
      "[WARNING] [2021-07-02 20:05:18,578:Client-AutoMLSMBO(1)::0dfd562c-db60-11eb-a6f0-9cb6d08d71fb] Configuration 673 not found\n",
      "[WARNING] [2021-07-02 20:05:18,578:Client-AutoMLSMBO(1)::0dfd562c-db60-11eb-a6f0-9cb6d08d71fb] Configuration 263 not found\n",
      "[WARNING] [2021-07-02 20:05:18,578:Client-AutoMLSMBO(1)::0dfd562c-db60-11eb-a6f0-9cb6d08d71fb] Configuration 356 not found\n",
      "[WARNING] [2021-07-02 20:05:18,578:Client-AutoMLSMBO(1)::0dfd562c-db60-11eb-a6f0-9cb6d08d71fb] Configuration 29 not found\n",
      "[WARNING] [2021-07-02 20:05:18,578:Client-AutoMLSMBO(1)::0dfd562c-db60-11eb-a6f0-9cb6d08d71fb] Configuration 428 not found\n",
      "[WARNING] [2021-07-02 20:05:18,578:Client-AutoMLSMBO(1)::0dfd562c-db60-11eb-a6f0-9cb6d08d71fb] Configuration 648 not found\n",
      "[WARNING] [2021-07-02 20:05:18,578:Client-AutoMLSMBO(1)::0dfd562c-db60-11eb-a6f0-9cb6d08d71fb] Configuration 172 not found\n",
      "[WARNING] [2021-07-02 20:05:18,578:Client-AutoMLSMBO(1)::0dfd562c-db60-11eb-a6f0-9cb6d08d71fb] Configuration 266 not found\n",
      "[WARNING] [2021-07-02 20:05:18,578:Client-AutoMLSMBO(1)::0dfd562c-db60-11eb-a6f0-9cb6d08d71fb] Configuration 155 not found\n",
      "[WARNING] [2021-07-02 20:05:18,578:Client-AutoMLSMBO(1)::0dfd562c-db60-11eb-a6f0-9cb6d08d71fb] Configuration 294 not found\n",
      "[WARNING] [2021-07-02 20:05:18,578:Client-AutoMLSMBO(1)::0dfd562c-db60-11eb-a6f0-9cb6d08d71fb] Configuration 368 not found\n",
      "[WARNING] [2021-07-02 20:05:18,578:Client-AutoMLSMBO(1)::0dfd562c-db60-11eb-a6f0-9cb6d08d71fb] Configuration 260 not found\n",
      "[WARNING] [2021-07-02 20:05:18,578:Client-AutoMLSMBO(1)::0dfd562c-db60-11eb-a6f0-9cb6d08d71fb] Configuration 679 not found\n",
      "[WARNING] [2021-07-02 20:05:18,578:Client-AutoMLSMBO(1)::0dfd562c-db60-11eb-a6f0-9cb6d08d71fb] Configuration 209 not found\n",
      "[WARNING] [2021-07-02 20:05:18,579:Client-AutoMLSMBO(1)::0dfd562c-db60-11eb-a6f0-9cb6d08d71fb] Configuration 657 not found\n",
      "[WARNING] [2021-07-02 20:05:18,579:Client-AutoMLSMBO(1)::0dfd562c-db60-11eb-a6f0-9cb6d08d71fb] Configuration 425 not found\n",
      "[WARNING] [2021-07-02 20:05:18,579:Client-AutoMLSMBO(1)::0dfd562c-db60-11eb-a6f0-9cb6d08d71fb] Configuration 605 not found\n",
      "[WARNING] [2021-07-02 20:05:18,579:Client-AutoMLSMBO(1)::0dfd562c-db60-11eb-a6f0-9cb6d08d71fb] Configuration 181 not found\n",
      "[WARNING] [2021-07-02 20:05:18,579:Client-AutoMLSMBO(1)::0dfd562c-db60-11eb-a6f0-9cb6d08d71fb] Configuration 238 not found\n",
      "[WARNING] [2021-07-02 20:05:18,579:Client-AutoMLSMBO(1)::0dfd562c-db60-11eb-a6f0-9cb6d08d71fb] Configuration 668 not found\n",
      "[WARNING] [2021-07-02 20:05:18,579:Client-AutoMLSMBO(1)::0dfd562c-db60-11eb-a6f0-9cb6d08d71fb] Configuration 384 not found\n",
      "[WARNING] [2021-07-02 20:05:18,579:Client-AutoMLSMBO(1)::0dfd562c-db60-11eb-a6f0-9cb6d08d71fb] Configuration 694 not found\n",
      "[WARNING] [2021-07-02 20:05:18,579:Client-AutoMLSMBO(1)::0dfd562c-db60-11eb-a6f0-9cb6d08d71fb] Configuration 254 not found\n",
      "[WARNING] [2021-07-02 20:05:18,579:Client-AutoMLSMBO(1)::0dfd562c-db60-11eb-a6f0-9cb6d08d71fb] Configuration 518 not found\n",
      "[WARNING] [2021-07-02 20:05:18,579:Client-AutoMLSMBO(1)::0dfd562c-db60-11eb-a6f0-9cb6d08d71fb] Configuration 74 not found\n",
      "[WARNING] [2021-07-02 20:05:18,579:Client-AutoMLSMBO(1)::0dfd562c-db60-11eb-a6f0-9cb6d08d71fb] Configuration 572 not found\n",
      "[WARNING] [2021-07-02 20:05:18,579:Client-AutoMLSMBO(1)::0dfd562c-db60-11eb-a6f0-9cb6d08d71fb] Configuration 52 not found\n",
      "[WARNING] [2021-07-02 20:05:18,579:Client-AutoMLSMBO(1)::0dfd562c-db60-11eb-a6f0-9cb6d08d71fb] Configuration 6 not found\n",
      "[WARNING] [2021-07-02 20:05:18,579:Client-AutoMLSMBO(1)::0dfd562c-db60-11eb-a6f0-9cb6d08d71fb] Configuration 107 not found\n",
      "[WARNING] [2021-07-02 20:05:18,579:Client-AutoMLSMBO(1)::0dfd562c-db60-11eb-a6f0-9cb6d08d71fb] Configuration 413 not found\n",
      "[WARNING] [2021-07-02 20:05:18,579:Client-AutoMLSMBO(1)::0dfd562c-db60-11eb-a6f0-9cb6d08d71fb] Configuration 338 not found\n",
      "[WARNING] [2021-07-02 20:05:18,579:Client-AutoMLSMBO(1)::0dfd562c-db60-11eb-a6f0-9cb6d08d71fb] Configuration 44 not found\n",
      "[WARNING] [2021-07-02 20:05:18,579:Client-AutoMLSMBO(1)::0dfd562c-db60-11eb-a6f0-9cb6d08d71fb] Configuration 630 not found\n",
      "[WARNING] [2021-07-02 20:05:18,579:Client-AutoMLSMBO(1)::0dfd562c-db60-11eb-a6f0-9cb6d08d71fb] Configuration 35 not found\n",
      "[WARNING] [2021-07-02 20:05:18,579:Client-AutoMLSMBO(1)::0dfd562c-db60-11eb-a6f0-9cb6d08d71fb] Configuration 162 not found\n",
      "[WARNING] [2021-07-02 20:05:18,579:Client-AutoMLSMBO(1)::0dfd562c-db60-11eb-a6f0-9cb6d08d71fb] Configuration 269 not found\n",
      "[WARNING] [2021-07-02 20:05:18,579:Client-AutoMLSMBO(1)::0dfd562c-db60-11eb-a6f0-9cb6d08d71fb] Configuration 702 not found\n",
      "[WARNING] [2021-07-02 20:05:18,579:Client-AutoMLSMBO(1)::0dfd562c-db60-11eb-a6f0-9cb6d08d71fb] Configuration 191 not found\n",
      "[WARNING] [2021-07-02 20:05:18,579:Client-AutoMLSMBO(1)::0dfd562c-db60-11eb-a6f0-9cb6d08d71fb] Configuration 600 not found\n",
      "[WARNING] [2021-07-02 20:05:18,579:Client-AutoMLSMBO(1)::0dfd562c-db60-11eb-a6f0-9cb6d08d71fb] Configuration 489 not found\n",
      "[WARNING] [2021-07-02 20:05:18,579:Client-AutoMLSMBO(1)::0dfd562c-db60-11eb-a6f0-9cb6d08d71fb] Configuration 227 not found\n",
      "[WARNING] [2021-07-02 20:05:18,579:Client-AutoMLSMBO(1)::0dfd562c-db60-11eb-a6f0-9cb6d08d71fb] Configuration 115 not found\n",
      "[WARNING] [2021-07-02 20:05:18,579:Client-AutoMLSMBO(1)::0dfd562c-db60-11eb-a6f0-9cb6d08d71fb] Configuration 22 not found\n",
      "[WARNING] [2021-07-02 20:05:18,579:Client-AutoMLSMBO(1)::0dfd562c-db60-11eb-a6f0-9cb6d08d71fb] Configuration 91 not found\n",
      "[WARNING] [2021-07-02 20:05:18,579:Client-AutoMLSMBO(1)::0dfd562c-db60-11eb-a6f0-9cb6d08d71fb] Configuration 662 not found\n",
      "[WARNING] [2021-07-02 20:05:18,580:Client-AutoMLSMBO(1)::0dfd562c-db60-11eb-a6f0-9cb6d08d71fb] Configuration 468 not found\n",
      "[WARNING] [2021-07-02 20:05:18,580:Client-AutoMLSMBO(1)::0dfd562c-db60-11eb-a6f0-9cb6d08d71fb] Configuration 138 not found\n",
      "[WARNING] [2021-07-02 20:05:18,580:Client-AutoMLSMBO(1)::0dfd562c-db60-11eb-a6f0-9cb6d08d71fb] Configuration 283 not found\n",
      "[WARNING] [2021-07-02 20:05:18,580:Client-AutoMLSMBO(1)::0dfd562c-db60-11eb-a6f0-9cb6d08d71fb] Configuration 578 not found\n",
      "[WARNING] [2021-07-02 20:05:18,580:Client-AutoMLSMBO(1)::0dfd562c-db60-11eb-a6f0-9cb6d08d71fb] Configuration 623 not found\n",
      "[WARNING] [2021-07-02 20:05:18,580:Client-AutoMLSMBO(1)::0dfd562c-db60-11eb-a6f0-9cb6d08d71fb] Configuration 532 not found\n",
      "[WARNING] [2021-07-02 20:05:18,580:Client-AutoMLSMBO(1)::0dfd562c-db60-11eb-a6f0-9cb6d08d71fb] Configuration 324 not found\n",
      "[WARNING] [2021-07-02 20:05:18,580:Client-AutoMLSMBO(1)::0dfd562c-db60-11eb-a6f0-9cb6d08d71fb] Configuration 454 not found\n",
      "[WARNING] [2021-07-02 20:05:18,580:Client-AutoMLSMBO(1)::0dfd562c-db60-11eb-a6f0-9cb6d08d71fb] Configuration 2 not found\n",
      "[WARNING] [2021-07-02 20:05:18,580:Client-AutoMLSMBO(1)::0dfd562c-db60-11eb-a6f0-9cb6d08d71fb] Configuration 691 not found\n",
      "[WARNING] [2021-07-02 20:05:18,580:Client-AutoMLSMBO(1)::0dfd562c-db60-11eb-a6f0-9cb6d08d71fb] Configuration 176 not found\n",
      "[WARNING] [2021-07-02 20:05:18,580:Client-AutoMLSMBO(1)::0dfd562c-db60-11eb-a6f0-9cb6d08d71fb] Configuration 187 not found\n",
      "[WARNING] [2021-07-02 20:05:18,580:Client-AutoMLSMBO(1)::0dfd562c-db60-11eb-a6f0-9cb6d08d71fb] Configuration 67 not found\n",
      "[WARNING] [2021-07-02 20:05:18,580:Client-AutoMLSMBO(1)::0dfd562c-db60-11eb-a6f0-9cb6d08d71fb] Configuration 256 not found\n",
      "[WARNING] [2021-07-02 20:05:18,580:Client-AutoMLSMBO(1)::0dfd562c-db60-11eb-a6f0-9cb6d08d71fb] Configuration 349 not found\n"
     ]
    },
    {
     "name": "stdout",
     "output_type": "stream",
     "text": [
      "[WARNING] [2021-07-02 20:05:18,580:Client-AutoMLSMBO(1)::0dfd562c-db60-11eb-a6f0-9cb6d08d71fb] Configuration 524 not found\n",
      "[WARNING] [2021-07-02 20:05:18,580:Client-AutoMLSMBO(1)::0dfd562c-db60-11eb-a6f0-9cb6d08d71fb] Configuration 698 not found\n",
      "[WARNING] [2021-07-02 20:05:18,580:Client-AutoMLSMBO(1)::0dfd562c-db60-11eb-a6f0-9cb6d08d71fb] Configuration 334 not found\n",
      "[WARNING] [2021-07-02 20:05:18,580:Client-AutoMLSMBO(1)::0dfd562c-db60-11eb-a6f0-9cb6d08d71fb] Configuration 61 not found\n",
      "[WARNING] [2021-07-02 20:05:18,580:Client-AutoMLSMBO(1)::0dfd562c-db60-11eb-a6f0-9cb6d08d71fb] Configuration 585 not found\n",
      "[WARNING] [2021-07-02 20:05:18,580:Client-AutoMLSMBO(1)::0dfd562c-db60-11eb-a6f0-9cb6d08d71fb] Configuration 459 not found\n",
      "[WARNING] [2021-07-02 20:05:18,580:Client-AutoMLSMBO(1)::0dfd562c-db60-11eb-a6f0-9cb6d08d71fb] Configuration 567 not found\n",
      "[WARNING] [2021-07-02 20:05:18,580:Client-AutoMLSMBO(1)::0dfd562c-db60-11eb-a6f0-9cb6d08d71fb] Configuration 210 not found\n",
      "[WARNING] [2021-07-02 20:05:18,580:Client-AutoMLSMBO(1)::0dfd562c-db60-11eb-a6f0-9cb6d08d71fb] Configuration 473 not found\n",
      "[WARNING] [2021-07-02 20:05:18,580:Client-AutoMLSMBO(1)::0dfd562c-db60-11eb-a6f0-9cb6d08d71fb] Configuration 565 not found\n",
      "[WARNING] [2021-07-02 20:05:18,580:Client-AutoMLSMBO(1)::0dfd562c-db60-11eb-a6f0-9cb6d08d71fb] Configuration 674 not found\n",
      "[WARNING] [2021-07-02 20:05:18,580:Client-AutoMLSMBO(1)::0dfd562c-db60-11eb-a6f0-9cb6d08d71fb] Configuration 230 not found\n",
      "[WARNING] [2021-07-02 20:05:18,580:Client-AutoMLSMBO(1)::0dfd562c-db60-11eb-a6f0-9cb6d08d71fb] Configuration 329 not found\n",
      "[WARNING] [2021-07-02 20:05:18,580:Client-AutoMLSMBO(1)::0dfd562c-db60-11eb-a6f0-9cb6d08d71fb] Configuration 479 not found\n",
      "[WARNING] [2021-07-02 20:05:18,580:Client-AutoMLSMBO(1)::0dfd562c-db60-11eb-a6f0-9cb6d08d71fb] Configuration 438 not found\n",
      "[WARNING] [2021-07-02 20:05:18,580:Client-AutoMLSMBO(1)::0dfd562c-db60-11eb-a6f0-9cb6d08d71fb] Configuration 222 not found\n",
      "[WARNING] [2021-07-02 20:05:18,580:Client-AutoMLSMBO(1)::0dfd562c-db60-11eb-a6f0-9cb6d08d71fb] Configuration 663 not found\n",
      "[WARNING] [2021-07-02 20:05:18,580:Client-AutoMLSMBO(1)::0dfd562c-db60-11eb-a6f0-9cb6d08d71fb] Configuration 407 not found\n",
      "[WARNING] [2021-07-02 20:05:18,580:Client-AutoMLSMBO(1)::0dfd562c-db60-11eb-a6f0-9cb6d08d71fb] Configuration 374 not found\n",
      "[WARNING] [2021-07-02 20:05:18,581:Client-AutoMLSMBO(1)::0dfd562c-db60-11eb-a6f0-9cb6d08d71fb] Configuration 75 not found\n",
      "[WARNING] [2021-07-02 20:05:18,581:Client-AutoMLSMBO(1)::0dfd562c-db60-11eb-a6f0-9cb6d08d71fb] Configuration 590 not found\n",
      "[WARNING] [2021-07-02 20:05:18,581:Client-AutoMLSMBO(1)::0dfd562c-db60-11eb-a6f0-9cb6d08d71fb] Configuration 185 not found\n",
      "[WARNING] [2021-07-02 20:05:18,581:Client-AutoMLSMBO(1)::0dfd562c-db60-11eb-a6f0-9cb6d08d71fb] Configuration 34 not found\n",
      "[WARNING] [2021-07-02 20:05:18,581:Client-AutoMLSMBO(1)::0dfd562c-db60-11eb-a6f0-9cb6d08d71fb] Configuration 559 not found\n",
      "[WARNING] [2021-07-02 20:05:18,581:Client-AutoMLSMBO(1)::0dfd562c-db60-11eb-a6f0-9cb6d08d71fb] Configuration 399 not found\n",
      "[WARNING] [2021-07-02 20:05:18,581:Client-AutoMLSMBO(1)::0dfd562c-db60-11eb-a6f0-9cb6d08d71fb] Configuration 358 not found\n",
      "[WARNING] [2021-07-02 20:05:18,581:Client-AutoMLSMBO(1)::0dfd562c-db60-11eb-a6f0-9cb6d08d71fb] Configuration 149 not found\n",
      "[WARNING] [2021-07-02 20:05:18,581:Client-AutoMLSMBO(1)::0dfd562c-db60-11eb-a6f0-9cb6d08d71fb] Configuration 546 not found\n",
      "[WARNING] [2021-07-02 20:05:18,581:Client-AutoMLSMBO(1)::0dfd562c-db60-11eb-a6f0-9cb6d08d71fb] Configuration 9 not found\n",
      "[WARNING] [2021-07-02 20:05:18,581:Client-AutoMLSMBO(1)::0dfd562c-db60-11eb-a6f0-9cb6d08d71fb] Configuration 81 not found\n",
      "[WARNING] [2021-07-02 20:05:18,581:Client-AutoMLSMBO(1)::0dfd562c-db60-11eb-a6f0-9cb6d08d71fb] Configuration 395 not found\n",
      "[WARNING] [2021-07-02 20:05:18,581:Client-AutoMLSMBO(1)::0dfd562c-db60-11eb-a6f0-9cb6d08d71fb] Configuration 145 not found\n",
      "[WARNING] [2021-07-02 20:05:18,581:Client-AutoMLSMBO(1)::0dfd562c-db60-11eb-a6f0-9cb6d08d71fb] Configuration 147 not found\n",
      "[WARNING] [2021-07-02 20:05:18,581:Client-AutoMLSMBO(1)::0dfd562c-db60-11eb-a6f0-9cb6d08d71fb] Configuration 250 not found\n",
      "[WARNING] [2021-07-02 20:05:18,581:Client-AutoMLSMBO(1)::0dfd562c-db60-11eb-a6f0-9cb6d08d71fb] Configuration 168 not found\n",
      "[WARNING] [2021-07-02 20:05:18,581:Client-AutoMLSMBO(1)::0dfd562c-db60-11eb-a6f0-9cb6d08d71fb] Configuration 85 not found\n",
      "[WARNING] [2021-07-02 20:05:18,581:Client-AutoMLSMBO(1)::0dfd562c-db60-11eb-a6f0-9cb6d08d71fb] Configuration 392 not found\n",
      "[WARNING] [2021-07-02 20:05:18,581:Client-AutoMLSMBO(1)::0dfd562c-db60-11eb-a6f0-9cb6d08d71fb] Configuration 381 not found\n",
      "[WARNING] [2021-07-02 20:05:18,581:Client-AutoMLSMBO(1)::0dfd562c-db60-11eb-a6f0-9cb6d08d71fb] Configuration 461 not found\n",
      "[WARNING] [2021-07-02 20:05:18,581:Client-AutoMLSMBO(1)::0dfd562c-db60-11eb-a6f0-9cb6d08d71fb] Configuration 536 not found\n",
      "[WARNING] [2021-07-02 20:05:18,581:Client-AutoMLSMBO(1)::0dfd562c-db60-11eb-a6f0-9cb6d08d71fb] Configuration 130 not found\n",
      "[WARNING] [2021-07-02 20:05:18,581:Client-AutoMLSMBO(1)::0dfd562c-db60-11eb-a6f0-9cb6d08d71fb] Configuration 502 not found\n",
      "[WARNING] [2021-07-02 20:05:18,581:Client-AutoMLSMBO(1)::0dfd562c-db60-11eb-a6f0-9cb6d08d71fb] Configuration 304 not found\n",
      "[WARNING] [2021-07-02 20:05:18,581:Client-AutoMLSMBO(1)::0dfd562c-db60-11eb-a6f0-9cb6d08d71fb] Configuration 216 not found\n",
      "[WARNING] [2021-07-02 20:05:18,581:Client-AutoMLSMBO(1)::0dfd562c-db60-11eb-a6f0-9cb6d08d71fb] Configuration 317 not found\n",
      "[WARNING] [2021-07-02 20:05:18,581:Client-AutoMLSMBO(1)::0dfd562c-db60-11eb-a6f0-9cb6d08d71fb] Configuration 498 not found\n",
      "[WARNING] [2021-07-02 20:05:18,581:Client-AutoMLSMBO(1)::0dfd562c-db60-11eb-a6f0-9cb6d08d71fb] Configuration 689 not found\n",
      "[WARNING] [2021-07-02 20:05:18,581:Client-AutoMLSMBO(1)::0dfd562c-db60-11eb-a6f0-9cb6d08d71fb] Configuration 388 not found\n",
      "[WARNING] [2021-07-02 20:05:18,581:Client-AutoMLSMBO(1)::0dfd562c-db60-11eb-a6f0-9cb6d08d71fb] Configuration 599 not found\n",
      "[WARNING] [2021-07-02 20:05:18,581:Client-AutoMLSMBO(1)::0dfd562c-db60-11eb-a6f0-9cb6d08d71fb] Configuration 548 not found\n",
      "[WARNING] [2021-07-02 20:05:18,581:Client-AutoMLSMBO(1)::0dfd562c-db60-11eb-a6f0-9cb6d08d71fb] Configuration 201 not found\n",
      "[WARNING] [2021-07-02 20:05:18,581:Client-AutoMLSMBO(1)::0dfd562c-db60-11eb-a6f0-9cb6d08d71fb] Configuration 362 not found\n",
      "[WARNING] [2021-07-02 20:05:18,581:Client-AutoMLSMBO(1)::0dfd562c-db60-11eb-a6f0-9cb6d08d71fb] Configuration 24 not found\n",
      "[WARNING] [2021-07-02 20:05:18,581:Client-AutoMLSMBO(1)::0dfd562c-db60-11eb-a6f0-9cb6d08d71fb] Configuration 643 not found\n",
      "[WARNING] [2021-07-02 20:05:18,581:Client-AutoMLSMBO(1)::0dfd562c-db60-11eb-a6f0-9cb6d08d71fb] Configuration 150 not found\n",
      "[WARNING] [2021-07-02 20:05:18,581:Client-AutoMLSMBO(1)::0dfd562c-db60-11eb-a6f0-9cb6d08d71fb] Configuration 273 not found\n"
     ]
    }
   ],
   "source": [
    "import autosklearn.classification\n",
    "from autosklearn.metrics import make_scorer, recall\n",
    "from sklearn.model_selection import StratifiedShuffleSplit\n",
    "\n",
    "scorer = make_scorer('recall', recall)\n",
    "automl = autosklearn.classification.AutoSklearnClassifier(\n",
    "    include_estimators=[\"random_forest\", ], exclude_estimators=None,\n",
    "    include_preprocessors=[\"no_preprocessing\", ], exclude_preprocessors=None,\n",
    "    ensemble_size=1,\n",
    "    resampling_strategy=StratifiedShuffleSplit,\n",
    "    metric=scorer,\n",
    "    time_left_for_this_task=1800\n",
    ")\n",
    "automl.fit(data.to_numpy(), labels)\n",
    "acs = automl.refit(data.to_numpy(), labels)"
   ]
  },
  {
   "cell_type": "code",
   "execution_count": null,
   "id": "8ee15f67",
   "metadata": {},
   "outputs": [],
   "source": [
    "plot_confusion_matrix(acs, data.to_numpy(), labels)\n",
    "plot_confusion_matrix(acs, test_set_with_features.drop(columns=[\"sys_fraud\"]), test_set_with_features[\"sys_fraud\"])"
   ]
  },
  {
   "cell_type": "code",
   "execution_count": null,
   "id": "a8a4e9e6",
   "metadata": {},
   "outputs": [],
   "source": []
  }
 ],
 "metadata": {
  "kernelspec": {
   "display_name": "Python 3",
   "language": "python",
   "name": "python3"
  },
  "language_info": {
   "codemirror_mode": {
    "name": "ipython",
    "version": 3
   },
   "file_extension": ".py",
   "mimetype": "text/x-python",
   "name": "python",
   "nbconvert_exporter": "python",
   "pygments_lexer": "ipython3",
   "version": "3.6.9"
  }
 },
 "nbformat": 4,
 "nbformat_minor": 5
}
